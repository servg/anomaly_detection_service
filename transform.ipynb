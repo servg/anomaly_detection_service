{
 "cells": [
  {
   "cell_type": "code",
   "execution_count": 4,
   "metadata": {},
   "outputs": [
    {
     "name": "stdout",
     "output_type": "stream",
     "text": [
      "id               datetime  Accelerometer1RMS  Accelerometer2RMS   Current  \\\n",
      "0     2019-07-08 17:02:14           0.042830           0.080612  0.000749   \n",
      "1     2019-07-08 17:02:32           0.043330           0.084116  0.000849   \n",
      "2     2019-07-08 17:02:45           0.044111           0.082577  0.000764   \n",
      "3     2019-07-08 17:02:46           0.044244           0.079906  0.000914   \n",
      "4     2019-07-08 17:02:47           0.042298           0.081938  0.000768   \n",
      "...                   ...                ...                ...       ...   \n",
      "6400  2019-07-08 19:21:47           0.036152           0.063038  0.000471   \n",
      "6401  2019-07-08 19:21:48           0.035053           0.063914  0.000758   \n",
      "6402  2019-07-08 19:21:49           0.035560           0.064118  0.000949   \n",
      "6403  2019-07-08 19:21:50           0.035372           0.063209  0.000978   \n",
      "6404  2019-07-08 19:21:51           0.035453           0.060877  0.000980   \n",
      "\n",
      "id    Pressure  Temperature  Thermocouple  Voltage  Volume Flow RateRMS  \n",
      "0    -0.273216      28.2099       23.4457  252.743              37.0242  \n",
      "1     0.054711      28.3486       23.4492  240.488              37.0000  \n",
      "2     0.054711      28.6534       23.4417  235.642              37.9764  \n",
      "3    -0.273216      28.8157       23.4417  229.536              37.0242  \n",
      "4     0.054711      28.3558       23.4362  239.926              37.9764  \n",
      "...        ...          ...           ...      ...                  ...  \n",
      "6400 -0.273216      46.0023       24.3395  220.734              36.0000  \n",
      "6401  0.054711      46.3134       24.3407  207.956              36.0334  \n",
      "6402  0.054711      46.3939       24.3303  234.686              36.9675  \n",
      "6403 -0.273216      46.2248       24.3337  212.592              36.0000  \n",
      "6404 -0.601143      46.2927       24.3337  232.498              36.0334  \n",
      "\n",
      "[6405 rows x 9 columns]\n",
      "             timestamp  Accelerometer1RMS  Accelerometer2RMS   Current  \\\n",
      "0  2019-07-08 17:02:14           0.042830           0.080612  0.000749   \n",
      "1  2019-07-08 17:02:32           0.043330           0.084116  0.000849   \n",
      "2  2019-07-08 17:02:45           0.044111           0.082577  0.000764   \n",
      "3  2019-07-08 17:02:46           0.044244           0.079906  0.000914   \n",
      "4  2019-07-08 17:02:47           0.042298           0.081938  0.000768   \n",
      "\n",
      "   Pressure  Temperature  Thermocouple  Voltage  Volume Flow RateRMS  \n",
      "0 -0.273216      28.2099       23.4457  252.743              37.0242  \n",
      "1  0.054711      28.3486       23.4492  240.488              37.0000  \n",
      "2  0.054711      28.6534       23.4417  235.642              37.9764  \n",
      "3 -0.273216      28.8157       23.4417  229.536              37.0242  \n",
      "4  0.054711      28.3558       23.4362  239.926              37.9764  \n"
     ]
    }
   ],
   "source": [
    "import pandas as pd\n",
    "\n",
    "# Загрузка данных\n",
    "data = pd.read_csv('SKAB teaser.csv',sep=';')\n",
    "data\n",
    "# Преобразуем DataFrame с помощью метода pivot\n",
    "pivoted_data = data.pivot(index='datetime', columns='id', values='value')\n",
    "\n",
    "# Сбрасываем индексы для получения более чистого DataFrame\n",
    "pivoted_data.reset_index(inplace=True)\n",
    "\n",
    "# Отображаем преобразованный DataFrame\n",
    "print(pivoted_data)\n",
    "pivoted_data.rename(columns={'datetime': 'timestamp'}, inplace=True)\n",
    "\n",
    "# Удаляем столбец 'id' если он есть (в данном случае он не будет, но для безопасности)\n",
    "if 'id' in pivoted_data.columns:\n",
    "    pivoted_data = pivoted_data.drop(columns=['id'])\n",
    "\n",
    "# Сохраняем в CSV с разделителем запятая\n",
    "pivoted_data.to_csv('output.csv', index=False, sep=',')\n",
    "\n",
    "# Проверка сохраненного файла (необязательно)\n",
    "saved_data = pd.read_csv('output.csv')\n",
    "print(saved_data.head())"
   ]
  }
 ],
 "metadata": {
  "kernelspec": {
   "display_name": "Python 3",
   "language": "python",
   "name": "python3"
  },
  "language_info": {
   "codemirror_mode": {
    "name": "ipython",
    "version": 3
   },
   "file_extension": ".py",
   "mimetype": "text/x-python",
   "name": "python",
   "nbconvert_exporter": "python",
   "pygments_lexer": "ipython3",
   "version": "3.11.6"
  }
 },
 "nbformat": 4,
 "nbformat_minor": 2
}
